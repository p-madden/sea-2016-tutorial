{
 "cells": [
  {
   "cell_type": "markdown",
   "metadata": {
    "ein.tags": [
     "worksheet-0"
    ]
   },
   "source": [
    "<p style=\"float:right\">\n",
    "<img src=\"images/logos/cu.png\" style=\"display:inline\" />\n",
    "<img src=\"images/logos/cires.png\" style=\"display:inline\" />\n",
    "<img src=\"images/logos/nasa.png\" style=\"display:inline\" />\n",
    "<img src=\"images/logos/nsidc_daac.png\" style=\"display:inline\" />\n",
    "</p>\n",
    "\n",
    "# Python, Jupyter & pandas: Module 3\n",
    "\n",
    "## Viewing geolocated data\n",
    "\n",
    "In Module 2, we retrieved NSIDC snow cover data in the northern hemisphere from an OPeNDAP server. Let's pull that data again for use in this notebook:"
   ]
  },
  {
   "cell_type": "code",
   "execution_count": null,
   "metadata": {
    "autoscroll": "json-false",
    "collapsed": false,
    "ein.tags": [
     "worksheet-0"
    ]
   },
   "outputs": [],
   "source": [
    "import netCDF4\n",
    "import numpy as np\n",
    "url = ('http://opendap.apps.nsidc.org:80/opendap/DATASETS/'\n",
    "       'nsidc0530_MEASURES_nhsnow_daily25/2012/nhtsd25e2_20120101_v01r01.nc?'\n",
    "       'latitude[0:1:719][0:1:719],'\n",
    "       'longitude[0:1:719][0:1:719],'\n",
    "       'merged_snow_cover_extent[0:1:0][0:1:719][0:1:719]'\n",
    ")\n",
    "dataset = netCDF4.Dataset(url)\n",
    "latitude = np.array(dataset.variables['latitude'])\n",
    "longitude = np.array(dataset.variables['longitude'])\n",
    "msce = np.array(dataset.variables['merged_snow_cover_extent'])[0, :, :]"
   ]
  },
  {
   "cell_type": "markdown",
   "metadata": {
    "ein.tags": [
     "worksheet-0"
    ]
   },
   "source": [
    "And now let's pull in some graphics support now and get ready to plot our snow cover data."
   ]
  },
  {
   "cell_type": "code",
   "execution_count": null,
   "metadata": {
    "autoscroll": "json-false",
    "collapsed": false,
    "ein.tags": [
     "worksheet-0"
    ]
   },
   "outputs": [],
   "source": [
    "%matplotlib inline\n",
    "from mpl_toolkits.basemap import Basemap\n",
    "import matplotlib.pyplot as plt"
   ]
  },
  {
   "cell_type": "markdown",
   "metadata": {
    "ein.tags": [
     "worksheet-0"
    ]
   },
   "source": [
    "It will be helpful to have an underlying map image to better interpret our data, so let's be sure we can at least do that with `matplotlib`'s [`Basemap`](http://matplotlib.org/basemap/api/basemap_api.html?highlight=basemap#module-mpl_toolkits.basemap):"
   ]
  },
  {
   "cell_type": "code",
   "execution_count": null,
   "metadata": {
    "autoscroll": "json-false",
    "collapsed": false,
    "ein.tags": [
     "worksheet-0"
    ]
   },
   "outputs": [],
   "source": [
    "plt.figure(figsize=(10, 10))\n",
    "m = Basemap(projection='npstere', boundinglat=45, lon_0=300)\n",
    "m.drawcoastlines()\n",
    "plt.draw()"
   ]
  },
  {
   "cell_type": "markdown",
   "metadata": {
    "ein.tags": [
     "worksheet-0"
    ]
   },
   "source": [
    "We can ask for more interesting background imagery (we won't, in general, in this tutorial, in order to focus on the data instead of the map):"
   ]
  },
  {
   "cell_type": "code",
   "execution_count": null,
   "metadata": {
    "autoscroll": "json-false",
    "collapsed": false,
    "ein.tags": [
     "worksheet-0"
    ]
   },
   "outputs": [],
   "source": [
    "plt.figure(figsize=(10, 10))\n",
    "m = Basemap(projection='npstere', boundinglat=45, lon_0=300)\n",
    "m.drawcoastlines()\n",
    "m.etopo()\n",
    "plt.draw()"
   ]
  },
  {
   "cell_type": "markdown",
   "metadata": {
    "ein.tags": [
     "worksheet-0"
    ]
   },
   "source": [
    "Let's take a quick look back at the metadata for our Merged Snow Cover Extent variable:"
   ]
  },
  {
   "cell_type": "code",
   "execution_count": null,
   "metadata": {
    "autoscroll": "json-false",
    "collapsed": false,
    "ein.tags": [
     "worksheet-0"
    ]
   },
   "outputs": [],
   "source": [
    "dataset.variables['merged_snow_cover_extent']"
   ]
  },
  {
   "cell_type": "markdown",
   "metadata": {
    "ein.tags": [
     "worksheet-0"
    ]
   },
   "source": [
    "So, the snow cover variable is categorical (discrete), and consists of integers whose values represent snow cover from different sources, snow-free land, permanent ice-covered land, ocean, or a fill value."
   ]
  },
  {
   "cell_type": "markdown",
   "metadata": {},
   "source": [
    "As a reality check, let's find the would-be ocean points and plot them on our map:"
   ]
  },
  {
   "cell_type": "code",
   "execution_count": null,
   "metadata": {
    "autoscroll": "json-false",
    "collapsed": false,
    "ein.tags": [
     "worksheet-0"
    ]
   },
   "outputs": [],
   "source": [
    "plt.figure(figsize=(10, 10))\n",
    "m = Basemap(projection='npstere', boundinglat=45, lon_0=300)\n",
    "m.drawcoastlines()\n",
    "\n",
    "row, col = np.where(msce == 40)\n",
    "x, y = m(longitude[row, col], latitude[row, col])\n",
    "m.plot(x, y, '.', color='SeaGreen')\n",
    "\n",
    "plt.draw()"
   ]
  },
  {
   "cell_type": "markdown",
   "metadata": {
    "ein.tags": [
     "worksheet-0"
    ]
   },
   "source": [
    "Seems legit.\n",
    "\n",
    "Now, where's the snow? Values 10 through 16 in the merged snow cover variable all indicate snow, so we'll accept anything in that range:"
   ]
  },
  {
   "cell_type": "code",
   "execution_count": null,
   "metadata": {
    "autoscroll": "json-false",
    "collapsed": false,
    "ein.tags": [
     "worksheet-0"
    ]
   },
   "outputs": [],
   "source": [
    "plt.figure(figsize=(10, 10))\n",
    "m = Basemap(projection='npstere', boundinglat=45, lon_0=300)\n",
    "m.drawcoastlines()\n",
    "\n",
    "row, col = np.where((msce >=10) & (msce <=17))\n",
    "x, y = m(longitude[row, col], latitude[row, col])\n",
    "m.plot(x, y, '.', color='Cyan')\n",
    "\n",
    "plt.draw()"
   ]
  },
  {
   "cell_type": "markdown",
   "metadata": {
    "ein.tags": [
     "worksheet-0"
    ]
   },
   "source": [
    "How about snow **or** permanent ice covered land?"
   ]
  },
  {
   "cell_type": "code",
   "execution_count": null,
   "metadata": {
    "autoscroll": "json-false",
    "collapsed": false,
    "ein.tags": [
     "worksheet-0"
    ]
   },
   "outputs": [],
   "source": [
    "plt.figure(figsize=(10, 10))\n",
    "m = Basemap(projection='npstere', boundinglat=45, lon_0=300)\n",
    "m.drawcoastlines()\n",
    "\n",
    "snow = (msce >=10) & (msce <=17)\n",
    "ice = (msce == 30)\n",
    "\n",
    "snow_col, snow_row = np.where(snow)\n",
    "ice_col, ice_row = np.where(ice)\n",
    "\n",
    "snow_x, snow_y = m(longitude[snow_col, snow_row], latitude[snow_col, snow_row])\n",
    "m.plot(snow_x, snow_y, '.', color='Cyan')\n",
    "\n",
    "ice_x, ice_y = m(longitude[ice_col, ice_row], latitude[ice_col, ice_row])\n",
    "m.plot(ice_x, ice_y, '.', color='Blue')\n",
    "\n",
    "plt.draw()"
   ]
  },
  {
   "cell_type": "markdown",
   "metadata": {
    "ein.tags": [
     "worksheet-0"
    ]
   },
   "source": [
    "At the end of Module 2, we tried to use OPeNDAP to retrieve data only in the area of Iceland. Let's execute that query again:"
   ]
  },
  {
   "cell_type": "code",
   "execution_count": null,
   "metadata": {
    "autoscroll": "json-false",
    "collapsed": false,
    "ein.tags": [
     "worksheet-0"
    ]
   },
   "outputs": [],
   "source": [
    "iceland_url = ('http://opendap.apps.nsidc.org:80/opendap/DATASETS/'\n",
    "       'nsidc0530_MEASURES_nhsnow_daily25/2012/nhtsd25e2_20120101_v01r01.nc?'\n",
    "       'latitude[453:1:476][310:1:338],'\n",
    "       'longitude[453:1:476][310:1:338],'\n",
    "       'merged_snow_cover_extent[0:1:0][453:1:476][310:1:338]'\n",
    ")\n",
    "iceland_dataset = netCDF4.Dataset(iceland_url)\n",
    "iceland_latitude = np.array(iceland_dataset.variables['latitude'])\n",
    "iceland_longitude = np.array(iceland_dataset.variables['longitude'])\n",
    "iceland_msce = np.array(iceland_dataset.variables['merged_snow_cover_extent'])[0, :, :]"
   ]
  },
  {
   "cell_type": "markdown",
   "metadata": {
    "ein.tags": [
     "worksheet-0"
    ]
   },
   "source": [
    "And now let's plot it on a map and see if the result makes sense:"
   ]
  },
  {
   "cell_type": "code",
   "execution_count": null,
   "metadata": {
    "autoscroll": "json-false",
    "collapsed": false,
    "ein.tags": [
     "worksheet-0"
    ]
   },
   "outputs": [],
   "source": [
    "plt.figure(figsize=(10, 10))\n",
    "m = Basemap(projection='npstere', boundinglat=45, lon_0=300)\n",
    "m.drawcoastlines()\n",
    "\n",
    "snow = (iceland_msce >=10) & (iceland_msce <=17)\n",
    "ice = (iceland_msce == 30)\n",
    "\n",
    "snow_col, snow_row = np.where(snow)\n",
    "ice_col, ice_row = np.where(ice)\n",
    "\n",
    "snow_x, snow_y = m(iceland_longitude[snow_col, snow_row], iceland_latitude[snow_col, snow_row])\n",
    "m.plot(snow_x, snow_y, '.', color='Cyan')\n",
    "\n",
    "ice_x, ice_y = m(iceland_longitude[ice_col, ice_row], iceland_latitude[ice_col, ice_row])\n",
    "m.plot(ice_x, ice_y, '.', color='Blue')\n",
    "\n",
    "plt.draw()"
   ]
  },
  {
   "cell_type": "markdown",
   "metadata": {
    "ein.tags": [
     "worksheet-0"
    ]
   },
   "source": [
    "Looks about right, but let's get a closer look. Can we plot a map of just Iceland?"
   ]
  },
  {
   "cell_type": "code",
   "execution_count": null,
   "metadata": {
    "autoscroll": "json-false",
    "collapsed": false,
    "ein.tags": [
     "worksheet-0"
    ]
   },
   "outputs": [],
   "source": [
    "plt.figure(figsize=(10, 10))\n",
    "m = Basemap(projection='merc', llcrnrlon=-25, llcrnrlat=63, urcrnrlon=-13, urcrnrlat=67, resolution='i')\n",
    "m.drawcoastlines()\n",
    "plt.draw()"
   ]
  },
  {
   "cell_type": "markdown",
   "metadata": {
    "ein.tags": [
     "worksheet-0"
    ]
   },
   "source": [
    "Let's plot the snow- and ice-cover points. We can re-use the `[snow|ice]_[col|row]` variables we computed previously, but need to recompute the coordinates since we are using a different map projection (Mercator, instead of North Polar Stereographic)."
   ]
  },
  {
   "cell_type": "code",
   "execution_count": null,
   "metadata": {
    "autoscroll": "json-false",
    "collapsed": false,
    "ein.tags": [
     "worksheet-0"
    ]
   },
   "outputs": [],
   "source": [
    "plt.figure(figsize=(10, 10))\n",
    "m = Basemap(projection='merc', llcrnrlon=-25, llcrnrlat=63, urcrnrlon=-13, urcrnrlat=67, resolution='i')\n",
    "m.drawcoastlines()\n",
    "\n",
    "snow_x, snow_y = m(iceland_longitude[snow_col, snow_row], iceland_latitude[snow_col, snow_row])\n",
    "m.plot(snow_x, snow_y, '.', color='Cyan', markersize='24')\n",
    "\n",
    "ice_x, ice_y = m(iceland_longitude[ice_col, ice_row], iceland_latitude[ice_col, ice_row])\n",
    "m.plot(ice_x, ice_y, '.', color='Blue', markersize='24')\n",
    "\n",
    "plt.draw()"
   ]
  },
  {
   "cell_type": "markdown",
   "metadata": {
    "ein.tags": [
     "worksheet-0"
    ]
   },
   "source": [
    "Let's see if we can plot a more visually compact grid of the data values. We start with an array full of zeros with the same shape as our `iceland_msce` variable, courtesy of NumPy's [zeros_like](http://docs.scipy.org/doc/numpy-1.10.1/reference/generated/numpy.zeros_like.html) function, then fill in snowy or icy locations with values of our choosing:"
   ]
  },
  {
   "cell_type": "code",
   "execution_count": null,
   "metadata": {
    "autoscroll": "json-false",
    "collapsed": false,
    "ein.tags": [
     "worksheet-0"
    ]
   },
   "outputs": [],
   "source": [
    "ice_image = np.zeros_like(iceland_msce)\n",
    "ice_value = 100\n",
    "snow_value = 50\n",
    "ice_image[(iceland_msce >=10) & (iceland_msce <=17)] = snow_value\n",
    "ice_image[(iceland_msce == 30)] = ice_value"
   ]
  },
  {
   "cell_type": "markdown",
   "metadata": {},
   "source": [
    "Plot our image:"
   ]
  },
  {
   "cell_type": "code",
   "execution_count": null,
   "metadata": {
    "autoscroll": "json-false",
    "collapsed": false,
    "ein.tags": [
     "worksheet-0"
    ]
   },
   "outputs": [],
   "source": [
    "plt.imshow(ice_image, cmap='Blues', interpolation='nearest')"
   ]
  },
  {
   "cell_type": "markdown",
   "metadata": {
    "ein.tags": [
     "worksheet-0"
    ]
   },
   "source": [
    "Let's overlay these data on the map with Basemap.pcolor:"
   ]
  },
  {
   "cell_type": "code",
   "execution_count": null,
   "metadata": {
    "autoscroll": "json-false",
    "collapsed": false,
    "ein.tags": [
     "worksheet-0"
    ]
   },
   "outputs": [],
   "source": [
    "plt.figure(figsize=(10, 10))\n",
    "m = Basemap(projection='merc', llcrnrlon=-25, llcrnrlat=63, urcrnrlon=-13, urcrnrlat=67, resolution='i')\n",
    "m.drawcoastlines()\n",
    "m.pcolor(iceland_longitude, iceland_latitude, ice_image, latlon=True, cmap='Blues', alpha=1)\n",
    "plt.draw()"
   ]
  },
  {
   "cell_type": "markdown",
   "metadata": {
    "ein.tags": [
     "worksheet-0"
    ]
   },
   "source": [
    "If we add some (admittedly lo-res) background imagery, we can see that the permanent ice is located in what appear to be sensible places:"
   ]
  },
  {
   "cell_type": "code",
   "execution_count": null,
   "metadata": {
    "autoscroll": "json-false",
    "collapsed": false,
    "ein.tags": [
     "worksheet-0"
    ]
   },
   "outputs": [],
   "source": [
    "plt.figure(figsize=(10, 10))\n",
    "m = Basemap(projection='merc', llcrnrlon=-25, llcrnrlat=63, urcrnrlon=-13, urcrnrlat=67, resolution='i')\n",
    "m.plot(snow_x, snow_y, '.', color='Cyan', markersize='24')\n",
    "m.plot(ice_x, ice_y, '.', color='Blue', markersize='24')\n",
    "m.bluemarble()\n",
    "plt.draw()"
   ]
  },
  {
   "cell_type": "markdown",
   "metadata": {},
   "source": [
    "Alternatively, we can show the grid instead of dots:"
   ]
  },
  {
   "cell_type": "code",
   "execution_count": null,
   "metadata": {
    "autoscroll": "json-false",
    "collapsed": false,
    "ein.tags": [
     "worksheet-0"
    ]
   },
   "outputs": [],
   "source": [
    "plt.figure(figsize=(10, 10))\n",
    "m = Basemap(projection='merc', llcrnrlon=-25, llcrnrlat=63, urcrnrlon=-13, urcrnrlat=67, resolution='i')\n",
    "m.pcolor(iceland_longitude, iceland_latitude, ice_image, latlon=True, cmap='Blues', alpha=.5)\n",
    "m.bluemarble()\n",
    "plt.draw()"
   ]
  },
  {
   "cell_type": "markdown",
   "metadata": {
    "ein.tags": [
     "worksheet-0"
    ]
   },
   "source": [
    "In Module 4, we'll look at using pandas to do some data analysis."
   ]
  }
 ],
 "metadata": {
  "kernelspec": {
   "display_name": "Python 3",
   "language": "python",
   "name": "python3"
  },
  "language_info": {
   "codemirror_mode": {
    "name": "ipython",
    "version": 3
   },
   "file_extension": ".py",
   "mimetype": "text/x-python",
   "name": "python",
   "nbconvert_exporter": "python",
   "pygments_lexer": "ipython3",
   "version": "3.5.1"
  },
  "name": "module-3.ipynb"
 },
 "nbformat": 4,
 "nbformat_minor": 0
}
